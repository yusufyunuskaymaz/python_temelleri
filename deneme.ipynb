{
 "cells": [
  {
   "cell_type": "code",
   "execution_count": 27,
   "metadata": {},
   "outputs": [
    {
     "name": "stdout",
     "output_type": "stream",
     "text": [
      "25\n"
     ]
    }
   ],
   "source": [
    "num1 = \"ali\"\n",
    "a = 25\n",
    "deneme = 25\n",
    "print(deneme)"
   ]
  },
  {
   "cell_type": "code",
   "execution_count": 28,
   "metadata": {},
   "outputs": [
    {
     "name": "stdout",
     "output_type": "stream",
     "text": [
      "setataP\n"
     ]
    }
   ],
   "source": [
    "city = \"Patates\"\n",
    "print(city[::-1]) #tat"
   ]
  },
  {
   "cell_type": "code",
   "execution_count": 29,
   "metadata": {},
   "outputs": [
    {
     "data": {
      "text/plain": [
       "14"
      ]
     },
     "execution_count": 29,
     "metadata": {},
     "output_type": "execute_result"
    }
   ],
   "source": [
    "new_str = \"    abcde     \"\n",
    "len(new_str)"
   ]
  },
  {
   "cell_type": "code",
   "execution_count": 30,
   "metadata": {},
   "outputs": [
    {
     "name": "stdout",
     "output_type": "stream",
     "text": [
      "in god we trust\n"
     ]
    }
   ],
   "source": [
    "var_str = \"In God we Trust\"\n",
    "var_str = var_str.lower()\n",
    "\n",
    "print(var_str)\n"
   ]
  },
  {
   "cell_type": "code",
   "execution_count": 31,
   "metadata": {},
   "outputs": [
    {
     "name": "stdout",
     "output_type": "stream",
     "text": [
      "True\n"
     ]
    }
   ],
   "source": [
    "number = 4545454\n",
    "\n",
    "print(str(number).startswith(\"4\"))\n"
   ]
  },
  {
   "cell_type": "code",
   "execution_count": 32,
   "metadata": {},
   "outputs": [
    {
     "name": "stdout",
     "output_type": "stream",
     "text": [
      "my neme is Yusufeeeeee\n",
      "My name is yusufaaaaaa\n",
      "My Name Is Yusufaaaaaa\n"
     ]
    }
   ],
   "source": [
    "z = \"my name is Yusufaaaaaa\"\n",
    "print(z.replace(\"a\", \"e\", 999))\n",
    "print(z.capitalize())\n",
    "print(z.title())\n"
   ]
  },
  {
   "cell_type": "code",
   "execution_count": 33,
   "metadata": {},
   "outputs": [
    {
     "name": "stdout",
     "output_type": "stream",
     "text": [
      "abcd\n",
      "Sodome and Gomore\n",
      "adsa  sdad         dsa              here\n"
     ]
    }
   ],
   "source": [
    "a_list = [\"a\",\"b\",\"c\",\"d\"]\n",
    "joined_str = \"\".join(a_list)\n",
    "print(joined_str)\n",
    "\n",
    "text = \"S0d0me and G0m0re\"\n",
    "print(text.replace(\"0\", \"o\", 5))\n",
    "metin = \"dsadsa  sdad         dsa             \"\n",
    "print(metin.lstrip(\"ds\"), \"here\")"
   ]
  },
  {
   "cell_type": "code",
   "execution_count": 34,
   "metadata": {},
   "outputs": [
    {
     "name": "stdout",
     "output_type": "stream",
     "text": [
      "Henr\n"
     ]
    }
   ],
   "source": [
    "v = \"Henrya\"\n",
    "print(v.rstrip(\"ay\"))"
   ]
  },
  {
   "cell_type": "code",
   "execution_count": 35,
   "metadata": {},
   "outputs": [
    {
     "name": "stdout",
     "output_type": "stream",
     "text": [
      "5\n"
     ]
    }
   ],
   "source": [
    "print(\"5\")"
   ]
  },
  {
   "cell_type": "code",
   "execution_count": 36,
   "metadata": {},
   "outputs": [
    {
     "name": "stdout",
     "output_type": "stream",
     "text": [
      "['kedi', 'balık', 'zürafa', 'kuş', 'at']\n"
     ]
    }
   ],
   "source": [
    "animals = [\"kedi\", \"köpek\", \"balık\", \"tilki\", \"zürafa\",\"ayı\",\"kuş\",\"sincap\",\"at\"]\n",
    "print(animals[::2])"
   ]
  },
  {
   "cell_type": "code",
   "execution_count": 37,
   "metadata": {},
   "outputs": [
    {
     "name": "stdout",
     "output_type": "stream",
     "text": [
      "London  in \n"
     ]
    }
   ],
   "source": [
    "def city(deneme, continent=\"Europe\"):\n",
    "    print(deneme, ' in ')\n",
    "city(\"London\")"
   ]
  },
  {
   "cell_type": "code",
   "execution_count": 38,
   "metadata": {},
   "outputs": [
    {
     "name": "stdout",
     "output_type": "stream",
     "text": [
      "3\n"
     ]
    }
   ],
   "source": [
    "D = {1: 1,\n",
    "     2: '2',\n",
    "     '1': 1,\n",
    "     '2': 3}\n",
    "D['1'] = 2\n",
    "print(D[D[D[str(D[1])]]])\n"
   ]
  },
  {
   "cell_type": "code",
   "execution_count": 39,
   "metadata": {},
   "outputs": [
    {
     "name": "stdout",
     "output_type": "stream",
     "text": [
      "[1, 3, 6, 10]\n",
      "[1, 2]\n"
     ]
    }
   ],
   "source": [
    "a=[1,2,3,4]\n",
    "b=[sum(a[0:x+1]) for x in range(0,len(a))]\n",
    "print(b)\n",
    "print(a[0:2])"
   ]
  },
  {
   "cell_type": "code",
   "execution_count": 40,
   "metadata": {},
   "outputs": [
    {
     "name": "stdout",
     "output_type": "stream",
     "text": [
      " wo\n"
     ]
    }
   ],
   "source": [
    "example = \"snow world\"\n",
    "print(\"{}\".format(example[4:7]))\n",
    "\n"
   ]
  },
  {
   "cell_type": "code",
   "execution_count": 41,
   "metadata": {},
   "outputs": [
    {
     "name": "stdout",
     "output_type": "stream",
     "text": [
      "True\n"
     ]
    }
   ],
   "source": [
    "print(\"abcxyyzxyzxzxyy\".endswith(\"c\", 0, 3)) \n"
   ]
  },
  {
   "cell_type": "code",
   "execution_count": 42,
   "metadata": {},
   "outputs": [
    {
     "name": "stdout",
     "output_type": "stream",
     "text": [
      "hi\n"
     ]
    }
   ],
   "source": [
    "if True:\n",
    "    print(\"hi\")"
   ]
  },
  {
   "cell_type": "code",
   "execution_count": 43,
   "metadata": {},
   "outputs": [
    {
     "name": "stdout",
     "output_type": "stream",
     "text": [
      "Afiyet şifa olsun\n"
     ]
    }
   ],
   "source": [
    "meat = True\n",
    "bread = True\n",
    "lettuce = None\n",
    "pepper = True\n",
    "grocery = True\n",
    "\n",
    "hamburder = (meat and bread and grocery) and (lettuce or pepper)\n",
    "\n",
    "if hamburder:\n",
    "    print(\"Afiyet şifa olsun\")\n",
    "else: \n",
    "    print(\"Nasip kısmet\")"
   ]
  },
  {
   "cell_type": "code",
   "execution_count": 44,
   "metadata": {},
   "outputs": [
    {
     "name": "stdout",
     "output_type": "stream",
     "text": [
      "büyük\n"
     ]
    }
   ],
   "source": [
    "empty_seat = 14\n",
    "if empty_seat>3:\n",
    "    print(\"büyük\")"
   ]
  },
  {
   "cell_type": "code",
   "execution_count": 45,
   "metadata": {},
   "outputs": [
    {
     "name": "stdout",
     "output_type": "stream",
     "text": [
      "{'E', 'T', 'P', 'V', 'L', 'W', 'S', 'N', 'O', 'U', ' '}\n",
      "{'E', 'T', 'P', 'V', 'L', 'W', 'S', 'N', 'a', 'O', 'U', ' '}\n",
      "Not equal!\n"
     ]
    }
   ],
   "source": [
    "a = set(\"TWELVE PLUS ONE\")\n",
    "b = set(\"ELEVEN PLUS TWaO\")\n",
    "print(a)\n",
    "print(b)\n",
    "if a == b: \n",
    "    print(\"Equal!\")\n",
    "else:\n",
    "    print(\"Not equal!\")"
   ]
  },
  {
   "cell_type": "code",
   "execution_count": 46,
   "metadata": {},
   "outputs": [
    {
     "name": "stdout",
     "output_type": "stream",
     "text": [
      "OK\n"
     ]
    }
   ],
   "source": [
    "course = \"  ClArusWay   \"\n",
    "if course.strip().title() == \"Clarusway\":\n",
    "    print(\"OK\")\n",
    "else:\n",
    "    print(\"not ok\")"
   ]
  },
  {
   "cell_type": "code",
   "execution_count": 50,
   "metadata": {},
   "outputs": [
    {
     "name": "stdout",
     "output_type": "stream",
     "text": [
      "25 is positive\n"
     ]
    }
   ],
   "source": [
    "num = 25\n",
    "\n",
    "if num < 0:\n",
    "    print(f'{num} is negative')\n",
    "elif num == 0:\n",
    "    print(\"It is zero\")\n",
    "else:\n",
    "    print(f'{num} is positive')"
   ]
  },
  {
   "cell_type": "code",
   "execution_count": 51,
   "metadata": {},
   "outputs": [],
   "source": [
    "num1 = int(input(\"Please enter a number:\"))\n",
    "num2 = int(input(\"Please enter a number:\"))\n",
    "num3 = int(input(\"Please enter a number: \"))"
   ]
  },
  {
   "cell_type": "code",
   "execution_count": 2,
   "metadata": {},
   "outputs": [
    {
     "name": "stdout",
     "output_type": "stream",
     "text": [
      "0\n",
      "1\n",
      "2\n",
      "3\n",
      "4\n",
      "5\n",
      "Now\n"
     ]
    }
   ],
   "source": [
    "number = 0\n",
    "while number <6:\n",
    "    print(number)\n",
    "    number += 1\n",
    "print(\"Now\")"
   ]
  },
  {
   "cell_type": "code",
   "execution_count": 10,
   "metadata": {},
   "outputs": [
    {
     "name": "stdout",
     "output_type": "stream",
     "text": [
      "Please enter correct data\n",
      "Please enter correct data\n",
      "Please enter correct data\n",
      "Please enter correct data\n",
      "Please enter correct data\n",
      "Your age is 45\n"
     ]
    }
   ],
   "source": [
    "age = input(\"Enter you age\")\n",
    "\n",
    "while not age.isnumeric():\n",
    "    print(\"Please enter correct data\")\n",
    "    age = input(\"Enter you age\")\n",
    "\n",
    "print(f\"Your age is {age}\")\n"
   ]
  },
  {
   "cell_type": "code",
   "execution_count": 16,
   "metadata": {},
   "outputs": [
    {
     "name": "stdout",
     "output_type": "stream",
     "text": [
      "Aferinnn\n"
     ]
    }
   ],
   "source": [
    "my_number = 15\n",
    "while True:\n",
    "    your_number = int(input(\"Enter your number\"))\n",
    "\n",
    "    if your_number > my_number:\n",
    "        print(\"Lower\")\n",
    "    elif your_number < my_number:\n",
    "        print(\"higher\")\n",
    "    else:\n",
    "        print(\"Aferinnn\")\n",
    "        break"
   ]
  },
  {
   "cell_type": "code",
   "execution_count": 27,
   "metadata": {},
   "outputs": [
    {
     "name": "stdout",
     "output_type": "stream",
     "text": [
      "['İstanbul', 'ankara', 'muş']\n",
      "8\n"
     ]
    }
   ],
   "source": [
    "a = \"İstanbul, ankara, muş\"\n",
    "word_list = a.split(\", \")\n",
    "print(word_list)\n",
    "\n",
    "i=0\n",
    "longest=0\n",
    "while i<len(word_list):\n",
    "     if len(word_list[i]) > longest:\n",
    "        longest = len(word_list[i])\n",
    "     i += 1\n",
    "print(longest)\n"
   ]
  },
  {
   "cell_type": "code",
   "execution_count": 15,
   "metadata": {},
   "outputs": [
    {
     "name": "stdout",
     "output_type": "stream",
     "text": [
      "12.546545454567894\n"
     ]
    }
   ],
   "source": [
    "x = round(12.5)\n",
    "print(x)"
   ]
  },
  {
   "cell_type": "code",
   "execution_count": 56,
   "metadata": {},
   "outputs": [
    {
     "name": "stdout",
     "output_type": "stream",
     "text": [
      "20 ali\n",
      "21 veli\n",
      "22 henry\n"
     ]
    }
   ],
   "source": [
    "b_list = [\"ali\",\"veli\",\"henry\"]\n",
    "\n",
    "for index, name in enumerate(b_list,20):\n",
    "    print(index,name)"
   ]
  },
  {
   "cell_type": "code",
   "execution_count": 20,
   "metadata": {},
   "outputs": [],
   "source": [
    "a = [\"Hilal\", False, 1,2]\n",
    "b = [1,2,3,4,0]"
   ]
  },
  {
   "cell_type": "code",
   "execution_count": null,
   "metadata": {},
   "outputs": [],
   "source": []
  },
  {
   "cell_type": "code",
   "execution_count": 26,
   "metadata": {},
   "outputs": [
    {
     "name": "stdout",
     "output_type": "stream",
     "text": [
      "[7, 3, 7, 9, 5]\n",
      "[6, 4]\n"
     ]
    }
   ],
   "source": [
    "def slicer(*args):\n",
    "    even = [x for x in args if x%2==0]\n",
    "    odd = [x for x in args if x%2]\n",
    "    # for i in args:\n",
    "    #     if i % 2:\n",
    "    #         odd.append(i)\n",
    "    #     else:\n",
    "    #         even.append(i)\n",
    "    return odd, even\n",
    "        \n",
    "odd, even = slicer(6,7,4,3,7,9,5)\n",
    "print(odd)\n",
    "print(even)"
   ]
  },
  {
   "cell_type": "code",
   "execution_count": 37,
   "metadata": {},
   "outputs": [
    {
     "name": "stdout",
     "output_type": "stream",
     "text": [
      "{'a': 'Tiger', 'b': 'Elephant', 'c': 'Bear'}\n",
      "a  is  Tiger\n",
      "b  is  Elephant\n",
      "c  is  Bear\n"
     ]
    }
   ],
   "source": [
    "def animals(**kwargs):\n",
    "    print(kwargs)\n",
    "    for key,value in kwargs.items():\n",
    "        print(key,\" is \", value)\n",
    "\n",
    "animals(a='Tiger', b='Elephant', c='Bear')"
   ]
  },
  {
   "cell_type": "code",
   "execution_count": 39,
   "metadata": {},
   "outputs": [
    {
     "name": "stdout",
     "output_type": "stream",
     "text": [
      "(['henry', 'cooper'], ['henry', 'cooper'])\n"
     ]
    }
   ],
   "source": [
    "def orginizer(**kwargs):\n",
    "    name_list = []\n",
    "    age_list = []\n",
    "    for name,age in kwargs.items():\n",
    "        name_list.append(name)\n",
    "        age_list.append(name)\n",
    "    return name_list,age_list\n",
    "print(orginizer(henry=28,cooper=25))"
   ]
  },
  {
   "cell_type": "code",
   "execution_count": 40,
   "metadata": {},
   "outputs": [
    {
     "name": "stdout",
     "output_type": "stream",
     "text": [
      "1 2 3\n"
     ]
    }
   ],
   "source": [
    "family = [1,2,3]\n",
    "print(*family)"
   ]
  },
  {
   "cell_type": "code",
   "execution_count": 43,
   "metadata": {},
   "outputs": [
    {
     "name": "stdout",
     "output_type": "stream",
     "text": [
      "4\n"
     ]
    }
   ],
   "source": [
    "print((lambda x: x**2)(2))"
   ]
  },
  {
   "cell_type": "code",
   "execution_count": 44,
   "metadata": {},
   "outputs": [
    {
     "name": "stdout",
     "output_type": "stream",
     "text": [
      "4.0\n"
     ]
    }
   ],
   "source": [
    "avarage = (lambda x,y: (x+y)/2)(3,5)\n",
    "print(avarage)"
   ]
  },
  {
   "cell_type": "code",
   "execution_count": 48,
   "metadata": {},
   "outputs": [
    {
     "name": "stdout",
     "output_type": "stream",
     "text": [
      "fedcba\n"
     ]
    }
   ],
   "source": [
    "iterable = \"abcdef\"\n",
    "reverse_itr = (lambda x: x[::-1])(iterable)\n",
    "print(reverse_itr)"
   ]
  },
  {
   "cell_type": "code",
   "execution_count": 49,
   "metadata": {},
   "outputs": [
    {
     "name": "stdout",
     "output_type": "stream",
     "text": [
      "1 : odd\n",
      "2 : even\n",
      "3 : odd\n",
      "4 : even\n",
      "5 : odd\n"
     ]
    }
   ],
   "source": [
    "a_list = [1,2,3,4,5]\n",
    "\n",
    "for i in a_list:\n",
    "    print(i, \":\", (lambda i: \"odd\" if i%2 else \"even\")(i))"
   ]
  },
  {
   "cell_type": "code",
   "execution_count": 61,
   "metadata": {},
   "outputs": [
    {
     "ename": "TypeError",
     "evalue": "'list' object is not callable",
     "output_type": "error",
     "traceback": [
      "\u001b[1;31m---------------------------------------------------------------------------\u001b[0m",
      "\u001b[1;31mTypeError\u001b[0m                                 Traceback (most recent call last)",
      "Cell \u001b[1;32mIn[61], line 2\u001b[0m\n\u001b[0;32m      1\u001b[0m iterablae \u001b[39m=\u001b[39m [\u001b[39m1\u001b[39m,\u001b[39m2\u001b[39m,\u001b[39m3\u001b[39m,\u001b[39m4\u001b[39m,\u001b[39m5\u001b[39m]\n\u001b[1;32m----> 2\u001b[0m res \u001b[39m=\u001b[39m \u001b[39mlist\u001b[39;49m(\u001b[39mmap\u001b[39;49m(\u001b[39mlambda\u001b[39;49;00m x: x\u001b[39m*\u001b[39;49m\u001b[39m*\u001b[39;49m\u001b[39m2\u001b[39;49m, iterablae))\n\u001b[0;32m      3\u001b[0m \u001b[39m# square = list(res)\u001b[39;00m\n\u001b[0;32m      5\u001b[0m \u001b[39mprint\u001b[39m(res)\n",
      "\u001b[1;31mTypeError\u001b[0m: 'list' object is not callable"
     ]
    }
   ],
   "source": [
    "iterablae = [1,2,3,4,5]\n",
    "# res = list(map(lambda x: x**2, iterablae))\n",
    "# square = list(res)\n",
    "\n",
    "print(res)"
   ]
  },
  {
   "cell_type": "code",
   "execution_count": 66,
   "metadata": {},
   "outputs": [
    {
     "ename": "TypeError",
     "evalue": "'list' object is not callable",
     "output_type": "error",
     "traceback": [
      "\u001b[1;31m---------------------------------------------------------------------------\u001b[0m",
      "\u001b[1;31mTypeError\u001b[0m                                 Traceback (most recent call last)",
      "Cell \u001b[1;32mIn[66], line 2\u001b[0m\n\u001b[0;32m      1\u001b[0m first_ten \u001b[39m=\u001b[39m [\u001b[39m0\u001b[39m,\u001b[39m1\u001b[39m,\u001b[39m2\u001b[39m,\u001b[39m3\u001b[39m,\u001b[39m4\u001b[39m,\u001b[39m5\u001b[39m,\u001b[39m6\u001b[39m,\u001b[39m7\u001b[39m,\u001b[39m8\u001b[39m,\u001b[39m9\u001b[39m]\n\u001b[1;32m----> 2\u001b[0m odd \u001b[39m=\u001b[39m \u001b[39mlist\u001b[39;49m(\u001b[39mfilter\u001b[39;49m(\u001b[39mlambda\u001b[39;49;00m x: x\u001b[39m%\u001b[39;49m\u001b[39m2\u001b[39;49m, first_ten))\n\u001b[0;32m      3\u001b[0m \u001b[39mprint\u001b[39m(odd)\n",
      "\u001b[1;31mTypeError\u001b[0m: 'list' object is not callable"
     ]
    }
   ],
   "source": [
    "first_ten = [0,1,2,3,4,5,6,7,8,9]\n",
    "odd = list(filter(lambda x: x%2, first_ten))\n",
    "print(odd)"
   ]
  }
 ],
 "metadata": {
  "kernelspec": {
   "display_name": "Python 3.11.1 64-bit",
   "language": "python",
   "name": "python3"
  },
  "language_info": {
   "codemirror_mode": {
    "name": "ipython",
    "version": 3
   },
   "file_extension": ".py",
   "mimetype": "text/x-python",
   "name": "python",
   "nbconvert_exporter": "python",
   "pygments_lexer": "ipython3",
   "version": "3.11.1"
  },
  "orig_nbformat": 4,
  "vscode": {
   "interpreter": {
    "hash": "8addf2821c050cb4479c159b834331eb5ccc074f5b9c6f1e6ae57b07ba848176"
   }
  }
 },
 "nbformat": 4,
 "nbformat_minor": 2
}
